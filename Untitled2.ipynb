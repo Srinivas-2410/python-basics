{
 "cells": [
  {
   "cell_type": "code",
   "execution_count": 10,
   "id": "1b7f4bcc",
   "metadata": {},
   "outputs": [
    {
     "name": "stdout",
     "output_type": "stream",
     "text": [
      "enter name of the student:squid\n",
      "squid grade is b\n"
     ]
    }
   ],
   "source": [
    "#from dictionaries\n",
    "grades={\"sandy\":\"a\",\"squid\":\"b\"}\n",
    "student=input(\"enter name of the student:\")\n",
    "if student in grades:\n",
    "    print(f\"{student} grade is {grades[student]}\")\n",
    "else:\n",
    "    print(\"not found\")\n"
   ]
  },
  {
   "cell_type": "code",
   "execution_count": 12,
   "id": "50400c9f",
   "metadata": {},
   "outputs": [
    {
     "name": "stdout",
     "output_type": "stream",
     "text": [
      "enter the email id:sks@gmail.com\n",
      "valid mail\n"
     ]
    }
   ],
   "source": [
    "email=input(\"enter the email id:\")\n",
    "if \"@\" in email and \".\" in email:\n",
    "    print(\"valid mail\")\n",
    "else:\n",
    "    print(\"invlaid email\")"
   ]
  },
  {
   "cell_type": "code",
   "execution_count": 18,
   "id": "f1b5cd1f",
   "metadata": {},
   "outputs": [
    {
     "name": "stdout",
     "output_type": "stream",
     "text": [
      "[2, 4, 6, 8, 10, 12, 14, 16, 18]\n"
     ]
    }
   ],
   "source": [
    "#list comprehension [expression for value in iterable if condition]\n",
    "dobles=[]\n",
    "for x in range(1,10):\n",
    "    dobles.append(x*2)\n",
    "print(dobles)"
   ]
  },
  {
   "cell_type": "code",
   "execution_count": 20,
   "id": "db6b1cf9",
   "metadata": {},
   "outputs": [
    {
     "name": "stdout",
     "output_type": "stream",
     "text": [
      "[2, 4, 6, 8, 10, 12, 14, 16, 18]\n"
     ]
    }
   ],
   "source": [
    "d=[x*2 for x in range(1,10)] #for this do that\n",
    "print(d)"
   ]
  },
  {
   "cell_type": "code",
   "execution_count": 23,
   "id": "b0e44eb8",
   "metadata": {},
   "outputs": [
    {
     "name": "stdout",
     "output_type": "stream",
     "text": [
      "['a', 'm', 'c']\n"
     ]
    }
   ],
   "source": [
    "fruits=[\"apple\",\"mango\",\"coco\"]\n",
    "fruits_chars=[fruit[0] for fruit in fruits]\n",
    "print(fruits_chars)"
   ]
  },
  {
   "cell_type": "code",
   "execution_count": 27,
   "id": "aeb34620",
   "metadata": {},
   "outputs": [
    {
     "ename": "SyntaxError",
     "evalue": "invalid syntax (1203637122.py, line 3)",
     "output_type": "error",
     "traceback": [
      "\u001b[1;36m  File \u001b[1;32m\"C:\\Users\\srini\\AppData\\Local\\Temp\\ipykernel_28516\\1203637122.py\"\u001b[1;36m, line \u001b[1;32m3\u001b[0m\n\u001b[1;33m    match day:\u001b[0m\n\u001b[1;37m          ^\u001b[0m\n\u001b[1;31mSyntaxError\u001b[0m\u001b[1;31m:\u001b[0m invalid syntax\n"
     ]
    }
   ],
   "source": [
    "#match or switch case\n",
    "def work_day_week(day):\n",
    "    match day:\n",
    "        case 1:\n",
    "            return \"it is sunday\"\n",
    "        case 2:\n",
    "            return \"it is monday\"\n",
    "        case _:\n",
    "            return \"not valid\"\n",
    "print(work_day_week(1))"
   ]
  },
  {
   "cell_type": "code",
   "execution_count": 36,
   "id": "3316eea3",
   "metadata": {},
   "outputs": [
    {
     "data": {
      "text/plain": [
       "array([[1, 2],\n",
       "       [3, 4]])"
      ]
     },
     "execution_count": 36,
     "metadata": {},
     "output_type": "execute_result"
    }
   ],
   "source": [
    "import numpy as np\n",
    "a=np.array([[1,2],\n",
    "           [3,4]])\n",
    "a"
   ]
  },
  {
   "cell_type": "code",
   "execution_count": 41,
   "id": "d84e8ecf",
   "metadata": {},
   "outputs": [
    {
     "name": "stdout",
     "output_type": "stream",
     "text": [
      "\n",
      "Please wait a moment while I gather a list of all available modules...\n",
      "\n"
     ]
    },
    {
     "name": "stderr",
     "output_type": "stream",
     "text": [
      "[2024-09-23 20:20:51,632] No QCoreApplication instance found. Application patches not applied. You have to call load_stylesheet function after instantiation of QApplication to take effect. \n",
      "C:\\Users\\srini\\anaconda3\\lib\\pkgutil.py:108: VisibleDeprecationWarning:\n",
      "\n",
      "zmq.eventloop.minitornado is deprecated in pyzmq 14.0 and will be removed.\n",
      "    Install tornado itself to use zmq with the tornado IOLoop.\n",
      "    \n",
      "\n"
     ]
    },
    {
     "name": "stdout",
     "output_type": "stream",
     "text": [
      "Cython              constants           menuinst            smtplib\n",
      "IPython             constants_test      midi                snappy\n",
      "N = int(input())    contextlib          midi_test           sndarray\n",
      "OpenSSL             contextvars         mimetypes           sndarray_tags\n",
      "PIL                 controller_test     mistune             sndarray_test\n",
      "PyQt5               cookiecutter        mixer               sndhdr\n",
      "TBB                 copy                mixer_music         sniffio\n",
      "__future__          copyreg             mixer_music_tags    snowballstemmer\n",
      "__main__            crispy_forms        mixer_music_test    socket\n",
      "__pyinstaller       crypt               mixer_tags          socketserver\n",
      "_abc                cryptography        mixer_test          socks\n",
      "_aix_support        cssselect           mkl                 sockshandler\n",
      "_argon2_cffi_bindings csv                 mkl_fft             sortedcollections\n",
      "_ast                ctypes              mkl_random          sortedcontainers\n",
      "_asyncio            curl                mmap                soupsieve\n",
      "_bisect             curses              mmapfile            sphinx\n",
      "_black_version      cursors             mmsystem            sprite\n",
      "_blake2             cursors_test        mock                sprite_test\n",
      "_bootlocale         cv2                 modulefinder        spyder\n",
      "_bootsubprocess     cwp                 mouse               spyder_kernels\n",
      "_bz2                cycler              mouse_test          sqlalchemy\n",
      "_camera             cython              mpmath              sqlite3\n",
      "_camera_opencv      cythonmagic         msgpack             sqlparse\n",
      "_camera_vidcapture  cytoolz             msilib              sre_compile\n",
      "_cffi_backend       daal4py             msvcrt              sre_constants\n",
      "_codecs             dask                multipledispatch    sre_parse\n",
      "_codecs_cn          dataclasses         multiprocessing     ssl\n",
      "_codecs_hk          datashader          munkres             sspi\n",
      "_codecs_iso2022     datashape           mypy_extensions     sspicon\n",
      "_codecs_jp          datetime            nacl                stat\n",
      "_codecs_kr          dateutil            navigator_updater   statistics\n",
      "_codecs_tw          dbi                 nbclassic           statsmodels\n",
      "_collections        dbm                 nbclient            storemagic\n",
      "_collections_abc    dde                 nbconvert           string\n",
      "_compat_pickle      debugpy             nbformat            stringprep\n",
      "_compression        decimal             nest_asyncio        struct\n",
      "_contextvars        decorator           netbios             subprocess\n",
      "_csv                defusedxml          netrc               sunau\n",
      "_ctypes             diff_match_patch    networkx            surface\n",
      "_ctypes_test        difflib             newbuffer           surface_test\n",
      "_datetime           dill                nltk                surfarray\n",
      "_decimal            dis                 nntplib             surfarray_tags\n",
      "_distutils_hack     display             nose                surfarray_test\n",
      "_elementtree        display_test        notebook            surflock\n",
      "_freetype           distlib             nt                  surflock_test\n",
      "_functools          distributed         ntpath              symbol\n",
      "_hashlib            distro              ntsecuritycon       sympy\n",
      "_heapq              distutils           nturl2path          sympyprinting\n",
      "_imp                django              numba               symtable\n",
      "_io                 dns                 numbergen           sys\n",
      "_json               docs_test           numbers             sysconfig\n",
      "_locale             doctest             numexpr             sysfont\n",
      "_lsprof             docutils            numpy               sysfont_test\n",
      "_lzma               draw                numpydoc            tables\n",
      "_markupbase         draw_py             odbc                tabnanny\n",
      "_md5                draw_test           olefile             tabulate\n",
      "_msi                email               onedal              tarfile\n",
      "_multibytecodec     encodings           opcode              tbb\n",
      "_multiprocessing    ensurepip           openai              tblib\n",
      "_nsis               entrypoints         openpyxl            telnetlib\n",
      "_opcode             enum                operator            tempfile\n",
      "_operator           erfa                optparse            tenacity\n",
      "_osx_support        errno               os                  terminado\n",
      "_overlapped         et_xmlfile          packaging           test\n",
      "_peg_parser         event               pandas              test_pycosat\n",
      "_pickle             event_test          pandoc              test_utils\n",
      "_plotly_future_     examples            pandocfilters       testpath\n",
      "_plotly_utils       fastevent           panel               tests\n",
      "_py_abc             fastjsonschema      param               text_unidecode\n",
      "_pydecimal          faulthandler        paramiko            textdistance\n",
      "_pyio               filecmp             parsel              textwrap\n",
      "_pyrsistent_version fileinput           parser              this\n",
      "_pytest             filelock            parso               threading\n",
      "_queue              flake8              partd               threadpoolctl\n",
      "_random             flask               past                threads\n",
      "_sdl2               fnmatch             pathlib             threads_test\n",
      "_sha1               font                pathspec            three_merge\n",
      "_sha256             fontTools           patsy               tifffile\n",
      "_sha3               font_test           pdb                 time\n",
      "_sha512             formatter           pep8                time_test\n",
      "_signal             fractions           perfmon             timeit\n",
      "_sitebuiltins       freetype            pexpect             timer\n",
      "_socket             freetype_tags       pickle              tinycss\n",
      "_sprite             freetype_test       pickleshare         tkinter\n",
      "_sqlite3            fsspec              pickletools         tldextract\n",
      "_sre                ftfont              pip                 tlz\n",
      "_ssl                ftfont_tags         pipes               token\n",
      "_stat               ftfont_test         pixelarray          tokenize\n",
      "_statistics         ftplib              pixelarray_test     toml\n",
      "_string             functools           pixelcopy           tomli\n",
      "_strptime           future              pixelcopy_test      tomlkit\n",
      "_struct             gc                  pkg_resources       toolz\n",
      "_symtable           genericpath         pkgdata             tornado\n",
      "_system_path        gensim              pkginfo             touch_test\n",
      "_testbuffer         geographiclib       pkgutil             tqdm\n",
      "_testcapi           geopy               platform            trace\n",
      "_testconsole        getopt              platformdirs        traceback\n",
      "_testimportmultiple getpass             plistlib            tracemalloc\n",
      "_testinternalcapi   gettext             plotly              traitlets\n",
      "_testmultiphase     gfxdraw             pluggy              transform\n",
      "_thread             gfxdraw_test        plumbum             transform_test\n",
      "_threading_local    glob                ply                 tty\n",
      "_tkinter            glob2               pooch               turtle\n",
      "_tracemalloc        googlesearch        poplib              turtledemo\n",
      "_uuid               graphlib            posixpath           twisted\n",
      "_warnings           graphviz            poyo                types\n",
      "_weakref            greenlet            pprint              typing\n",
      "_weakrefset         gridfs              profile             typing_extensions\n",
      "_win32sysloader     gzip                prometheus_client   tzdata\n",
      "_winapi             h11                 prompt_toolkit      ujson\n",
      "_winxptheme         h5py                protego             unicodedata\n",
      "_xxsubinterpreters  hamcrest            pstats              unidecode\n",
      "_yaml               hashlib             psutil              unittest\n",
      "_zoneinfo           heapdict            pty                 untitled30\n",
      "abc                 heapq               ptyprocess          urllib\n",
      "adodbapi            hmac                pvectorc            urllib3\n",
      "afxres              holoviews           py                  uu\n",
      "aifc                html                py_compile          uuid\n",
      "alabaster           http                pyasn1              venv\n",
      "anaconda_navigator  httpcore            pyasn1_modules      version\n",
      "anaconda_project    httpx               pyclbr              version_test\n",
      "annotated_types     hvplot              pycodestyle         video_test\n",
      "antigravity         hyperlink           pycosat             virtualenv\n",
      "anyio               idlelib             pycparser           w3lib\n",
      "appdirs             idna                pyct                warnings\n",
      "argon2              image               pycurl              watchdog\n",
      "argparse            image__save_gl_surface_test pydantic            wave\n",
      "array               image_tags          pydantic_core       wcwidth\n",
      "arrow               image_test          pydispatch          weakref\n",
      "asgiref             imagecodecs         pydoc               webbrowser\n",
      "ast                 imageext            pydoc_data          webencodings\n",
      "astroid             imageext_tags       pydocstyle          websocket\n",
      "astropy             imageext_test       pyexpat             werkzeug\n",
      "asynchat            imageio             pyflakes            wheel\n",
      "asyncio             imagesize           pygame              widgetsnbextension\n",
      "asyncore            imaplib             pygments            win2kras\n",
      "atexit              imghdr              pylab               win32api\n",
      "atomicwrites        imp                 pylint              win32clipboard\n",
      "attr                importlib           pyls_spyder         win32com\n",
      "attrs               importlib_metadata  pylsp               win32con\n",
      "audioop             incremental         pylsp_black         win32console\n",
      "automat             inflection          pylsp_jsonrpc       win32cred\n",
      "autopep8            iniconfig           pymongo             win32crypt\n",
      "autoreload          inspect             pyodbc              win32cryptcon\n",
      "babel               intake              pyparsing           win32ctypes\n",
      "backcall            intervaltree        pypm                win32event\n",
      "backports           io                  pyrsistent          win32evtlog\n",
      "base                ipaddress           pytest              win32evtlogutil\n",
      "base64              ipdb                pythoncom           win32file\n",
      "base_test           ipykernel           pytz                win32gui\n",
      "bcrypt              ipykernel_launcher  pyviz_comms         win32gui_struct\n",
      "bdb                 ipython_genutils    pywin               win32help\n",
      "binaryornot         ipywidgets          pywin32_bootstrap   win32inet\n",
      "binascii            isapi               pywin32_testutil    win32inetcon\n",
      "binhex              isort               pywintypes          win32job\n",
      "binstar_client      isympy              pywt                win32lz\n",
      "bisect              itemadapter         pyximport           win32net\n",
      "bitarray            itemloaders         qdarkstyle          win32netcon\n",
      "bkcharts            itertools           qstylizer           win32pdh\n",
      "black               itsdangerous        qtawesome           win32pdhquery\n",
      "blackd              jdcal               qtconsole           win32pdhutil\n",
      "bleach              jedi                qtpy                win32pipe\n",
      "blib2to3            jellyfish           queue               win32print\n",
      "blit_test           jinja2              queuelib            win32process\n",
      "bokeh               jinja2_time         quopri              win32profile\n",
      "bootstrap5          jmespath            random              win32ras\n",
      "boto3               joblib              rasutil             win32rcparser\n",
      "botocore            joystick            re                  win32security\n",
      "bottleneck          joystick_test       rect                win32service\n",
      "brotli              json                rect_test           win32serviceutil\n",
      "bs4                 json5               regcheck            win32timezone\n",
      "bson                jsonschema          regex               win32trace\n",
      "bufferproxy         jupyter             regutil             win32traceutil\n",
      "bufferproxy_test    jupyter_client      repo_cli            win32transaction\n",
      "builtins            jupyter_console     reprlib             win32ts\n",
      "bz2                 jupyter_core        requests            win32ui\n",
      "cProfile            jupyter_server      requests_file       win32uiole\n",
      "calendar            jupyterlab          rlcompleter         win32verstamp\n",
      "camera              jupyterlab_plotly   rmagic              win32wnet\n",
      "camera_test         jupyterlab_pygments rope                win_inet_pton\n",
      "certifi             jupyterlab_server   rtree               win_unicode_console\n",
      "cffi                jupyterlab_widgets  ruamel_yaml         wincertstore\n",
      "cgi                 jwt                 run                 winerror\n",
      "cgitb               key                 run_tests__tests    winioctlcon\n",
      "chardet             key_test            runpy               winnt\n",
      "charset_normalizer  keyring             rwobject            winperf\n",
      "chunk               keyword             rwobject_test       winpty\n",
      "click               kiwisolver          s3transfer          winreg\n",
      "cloudpickle         lazy_object_proxy   sched               winsound\n",
      "clyent              lib2to3             scipy               winxpgui\n",
      "cmath               libarchive          scrap               winxptheme\n",
      "cmd                 libfuturize         scrap_tags          wrapt\n",
      "code                libpasteurize       scrap_test          wsgiref\n",
      "codecs              lief                scrapy              xarray\n",
      "codeop              linecache           seaborn             xdrlib\n",
      "collections         llvmlite            secrets             xlrd\n",
      "color               locale              select              xlsxwriter\n",
      "color_test          locals              selectors           xlwings\n",
      "colorama            locals_test         send2trash          xml\n",
      "colorcet            locket              service_identity    xmlrpc\n",
      "colordict           logging             servicemanager      xxsubtype\n",
      "colorsys            lxml                setuptools          yaml\n",
      "commctrl            lz4                 shelve              yapf\n",
      "compileall          lzma                shlex               yapftests\n",
      "comtypes            macosx              shutil              zict\n",
      "concurrent          mailbox             signal              zipapp\n",
      "conda               mailcap             sip                 zipfile\n",
      "conda_build         markdown            sipconfig           zipimport\n",
      "conda_content_trust markupsafe          sipdistutils        zipp\n",
      "conda_env           marshal             site                zlib\n",
      "conda_pack          mask                six                 zmq\n",
      "conda_package_handling mask_test           skimage             zoneinfo\n",
      "conda_package_streaming math                sklearn             zope\n",
      "conda_token         math_test           sklearnex           zstandard\n",
      "conda_verify        matplotlib          slugify             \n",
      "configparser        matplotlib_inline   smart_open          \n",
      "constantly          mccabe              smtpd               \n",
      "\n",
      "Enter any module name to get more help.  Or, type \"modules spam\" to search\n",
      "for modules whose name or summary contain the string \"spam\".\n",
      "\n",
      "None\n"
     ]
    }
   ],
   "source": [
    "print(help(\"modules\"))"
   ]
  },
  {
   "cell_type": "code",
   "execution_count": 45,
   "id": "28cb9dae",
   "metadata": {},
   "outputs": [
    {
     "name": "stdout",
     "output_type": "stream",
     "text": [
      "Help on built-in module _heapq:\n",
      "\n",
      "NAME\n",
      "    _heapq - Heap queue algorithm (a.k.a. priority queue).\n",
      "\n",
      "DESCRIPTION\n",
      "    Heaps are arrays for which a[k] <= a[2*k+1] and a[k] <= a[2*k+2] for\n",
      "    all k, counting elements from 0.  For the sake of comparison,\n",
      "    non-existing elements are considered to be infinite.  The interesting\n",
      "    property of a heap is that a[0] is always its smallest element.\n",
      "    \n",
      "    Usage:\n",
      "    \n",
      "    heap = []            # creates an empty heap\n",
      "    heappush(heap, item) # pushes a new item on the heap\n",
      "    item = heappop(heap) # pops the smallest item from the heap\n",
      "    item = heap[0]       # smallest item on the heap without popping it\n",
      "    heapify(x)           # transforms list into a heap, in-place, in linear time\n",
      "    item = heapreplace(heap, item) # pops and returns smallest item, and adds\n",
      "                                   # new item; the heap size is unchanged\n",
      "    \n",
      "    Our API differs from textbook heap algorithms as follows:\n",
      "    \n",
      "    - We use 0-based indexing.  This makes the relationship between the\n",
      "      index for a node and the indexes for its children slightly less\n",
      "      obvious, but is more suitable since Python uses 0-based indexing.\n",
      "    \n",
      "    - Our heappop() method returns the smallest item, not the largest.\n",
      "    \n",
      "    These two make it possible to view the heap as a regular Python list\n",
      "    without surprises: heap[0] is the smallest item, and heap.sort()\n",
      "    maintains the heap invariant!\n",
      "\n",
      "FUNCTIONS\n",
      "    heapify(heap, /)\n",
      "        Transform list into a heap, in-place, in O(len(heap)) time.\n",
      "    \n",
      "    heappop(heap, /)\n",
      "        Pop the smallest item off the heap, maintaining the heap invariant.\n",
      "    \n",
      "    heappush(heap, item, /)\n",
      "        Push item onto heap, maintaining the heap invariant.\n",
      "    \n",
      "    heappushpop(heap, item, /)\n",
      "        Push item on the heap, then pop and return the smallest item from the heap.\n",
      "        \n",
      "        The combined action runs more efficiently than heappush() followed by\n",
      "        a separate call to heappop().\n",
      "    \n",
      "    heapreplace(heap, item, /)\n",
      "        Pop and return the current smallest value, and add the new item.\n",
      "        \n",
      "        This is more efficient than heappop() followed by heappush(), and can be\n",
      "        more appropriate when using a fixed-size heap.  Note that the value\n",
      "        returned may be larger than item!  That constrains reasonable uses of\n",
      "        this routine unless written as part of a conditional replacement:\n",
      "        \n",
      "            if item > heap[0]:\n",
      "                item = heapreplace(heap, item)\n",
      "\n",
      "DATA\n",
      "    __about__ = 'Heap queues\\n\\n[explanation by François Pinard]\\n\\nH... t...\n",
      "\n",
      "FILE\n",
      "    (built-in)\n",
      "\n",
      "\n",
      "None\n"
     ]
    }
   ],
   "source": [
    "print(help(\"_heapq\"))"
   ]
  },
  {
   "cell_type": "code",
   "execution_count": null,
   "id": "8b3217be",
   "metadata": {},
   "outputs": [],
   "source": [
    "print(help)"
   ]
  },
  {
   "cell_type": "code",
   "execution_count": 1,
   "id": "e280bf74",
   "metadata": {},
   "outputs": [
    {
     "name": "stdout",
     "output_type": "stream",
     "text": [
      "['__doc__', '__loader__', '__name__', '__package__', '__spec__', 'acos', 'acosh', 'asin', 'asinh', 'atan', 'atan2', 'atanh', 'ceil', 'comb', 'copysign', 'cos', 'cosh', 'degrees', 'dist', 'e', 'erf', 'erfc', 'exp', 'expm1', 'fabs', 'factorial', 'floor', 'fmod', 'frexp', 'fsum', 'gamma', 'gcd', 'hypot', 'inf', 'isclose', 'isfinite', 'isinf', 'isnan', 'isqrt', 'lcm', 'ldexp', 'lgamma', 'log', 'log10', 'log1p', 'log2', 'modf', 'nan', 'nextafter', 'perm', 'pi', 'pow', 'prod', 'radians', 'remainder', 'sin', 'sinh', 'sqrt', 'tan', 'tanh', 'tau', 'trunc', 'ulp']\n"
     ]
    }
   ],
   "source": [
    "import math\n",
    "print(dir(math))"
   ]
  },
  {
   "cell_type": "code",
   "execution_count": 14,
   "id": "d1cb4ba5",
   "metadata": {},
   "outputs": [
    {
     "name": "stdout",
     "output_type": "stream",
     "text": [
      "10\n",
      "1.6094379124341003\n",
      "2\n",
      "2\n"
     ]
    }
   ],
   "source": [
    "import math as m\n",
    "print(m.comb(5,2))\n",
    "print(math.log(5))\n",
    "print(round(math.log(5)))\n",
    "print(math.ceil(math.log(5)))"
   ]
  },
  {
   "cell_type": "code",
   "execution_count": 20,
   "id": "f5ac522f",
   "metadata": {},
   "outputs": [
    {
     "name": "stdout",
     "output_type": "stream",
     "text": [
      "54.59815003314423\n",
      "625\n"
     ]
    }
   ],
   "source": [
    "from math import e\n",
    "a=1\n",
    "b=2\n",
    "c=3\n",
    "d=4\n",
    "e=5 #overrides the imported methid as conflicts e===e print(math.e**d)\n",
    "print(math.e**d)\n",
    "print(e**d)\n"
   ]
  },
  {
   "cell_type": "code",
   "execution_count": null,
   "id": "01ac5549",
   "metadata": {},
   "outputs": [],
   "source": [
    "YOU CAN ALSO YOUR OWN MODULE THAT CAN CONSIST OF THE FUNCTIONS AND CAN BE CALLED WHEN IT IS NEEDED"
   ]
  },
  {
   "cell_type": "code",
   "execution_count": 21,
   "id": "a1fa19f0",
   "metadata": {},
   "outputs": [
    {
     "name": "stdout",
     "output_type": "stream",
     "text": [
      "\n",
      "Please wait a moment while I gather a list of all available modules...\n",
      "\n"
     ]
    },
    {
     "name": "stderr",
     "output_type": "stream",
     "text": [
      "C:\\Users\\srini\\anaconda3\\lib\\site-packages\\IPython\\kernel\\__init__.py:12: ShimWarning: The `IPython.kernel` package has been deprecated since IPython 4.0.You should import from ipykernel or jupyter_client instead.\n",
      "  warn(\"The `IPython.kernel` package has been deprecated since IPython 4.0.\"\n"
     ]
    },
    {
     "ename": "KeyboardInterrupt",
     "evalue": "",
     "output_type": "error",
     "traceback": [
      "\u001b[1;31m---------------------------------------------------------------------------\u001b[0m",
      "\u001b[1;31mModuleNotFoundError\u001b[0m                       Traceback (most recent call last)",
      "\u001b[1;32m~\\anaconda3\\lib\\site-packages\\repo_cli\\utils\\conda.py\u001b[0m in \u001b[0;36mget_conda_root\u001b[1;34m()\u001b[0m\n\u001b[0;32m     51\u001b[0m         \u001b[1;31m# We're in the root environment\u001b[0m\u001b[1;33m\u001b[0m\u001b[1;33m\u001b[0m\u001b[0m\n\u001b[1;32m---> 52\u001b[1;33m         \u001b[0mconda_root\u001b[0m \u001b[1;33m=\u001b[0m \u001b[0m_import_conda_root\u001b[0m\u001b[1;33m(\u001b[0m\u001b[1;33m)\u001b[0m\u001b[1;33m\u001b[0m\u001b[1;33m\u001b[0m\u001b[0m\n\u001b[0m\u001b[0;32m     53\u001b[0m     \u001b[1;32mexcept\u001b[0m \u001b[0mImportError\u001b[0m\u001b[1;33m:\u001b[0m\u001b[1;33m\u001b[0m\u001b[1;33m\u001b[0m\u001b[0m\n",
      "\u001b[1;32m~\\anaconda3\\lib\\site-packages\\repo_cli\\utils\\conda.py\u001b[0m in \u001b[0;36m_import_conda_root\u001b[1;34m()\u001b[0m\n\u001b[0;32m     15\u001b[0m \u001b[1;32mdef\u001b[0m \u001b[0m_import_conda_root\u001b[0m\u001b[1;33m(\u001b[0m\u001b[1;33m)\u001b[0m\u001b[1;33m:\u001b[0m\u001b[1;33m\u001b[0m\u001b[1;33m\u001b[0m\u001b[0m\n\u001b[1;32m---> 16\u001b[1;33m     \u001b[1;32mimport\u001b[0m \u001b[0mconda\u001b[0m\u001b[1;33m.\u001b[0m\u001b[0mconfig\u001b[0m\u001b[1;33m\u001b[0m\u001b[1;33m\u001b[0m\u001b[0m\n\u001b[0m\u001b[0;32m     17\u001b[0m     \u001b[1;32mreturn\u001b[0m \u001b[0mconda\u001b[0m\u001b[1;33m.\u001b[0m\u001b[0mconfig\u001b[0m\u001b[1;33m.\u001b[0m\u001b[0mroot_dir\u001b[0m\u001b[1;33m\u001b[0m\u001b[1;33m\u001b[0m\u001b[0m\n",
      "\u001b[1;31mModuleNotFoundError\u001b[0m: No module named 'conda.config'",
      "\nDuring handling of the above exception, another exception occurred:\n",
      "\u001b[1;31mKeyboardInterrupt\u001b[0m                         Traceback (most recent call last)",
      "\u001b[1;32m~\\AppData\\Local\\Temp\\ipykernel_8376\\3186797835.py\u001b[0m in \u001b[0;36m<module>\u001b[1;34m\u001b[0m\n\u001b[1;32m----> 1\u001b[1;33m \u001b[0mprint\u001b[0m\u001b[1;33m(\u001b[0m\u001b[0mhelp\u001b[0m\u001b[1;33m(\u001b[0m\u001b[1;34m\"modules\"\u001b[0m\u001b[1;33m)\u001b[0m\u001b[1;33m)\u001b[0m\u001b[1;33m\u001b[0m\u001b[1;33m\u001b[0m\u001b[0m\n\u001b[0m",
      "\u001b[1;32m~\\anaconda3\\lib\\_sitebuiltins.py\u001b[0m in \u001b[0;36m__call__\u001b[1;34m(self, *args, **kwds)\u001b[0m\n\u001b[0;32m    101\u001b[0m     \u001b[1;32mdef\u001b[0m \u001b[0m__call__\u001b[0m\u001b[1;33m(\u001b[0m\u001b[0mself\u001b[0m\u001b[1;33m,\u001b[0m \u001b[1;33m*\u001b[0m\u001b[0margs\u001b[0m\u001b[1;33m,\u001b[0m \u001b[1;33m**\u001b[0m\u001b[0mkwds\u001b[0m\u001b[1;33m)\u001b[0m\u001b[1;33m:\u001b[0m\u001b[1;33m\u001b[0m\u001b[1;33m\u001b[0m\u001b[0m\n\u001b[0;32m    102\u001b[0m         \u001b[1;32mimport\u001b[0m \u001b[0mpydoc\u001b[0m\u001b[1;33m\u001b[0m\u001b[1;33m\u001b[0m\u001b[0m\n\u001b[1;32m--> 103\u001b[1;33m         \u001b[1;32mreturn\u001b[0m \u001b[0mpydoc\u001b[0m\u001b[1;33m.\u001b[0m\u001b[0mhelp\u001b[0m\u001b[1;33m(\u001b[0m\u001b[1;33m*\u001b[0m\u001b[0margs\u001b[0m\u001b[1;33m,\u001b[0m \u001b[1;33m**\u001b[0m\u001b[0mkwds\u001b[0m\u001b[1;33m)\u001b[0m\u001b[1;33m\u001b[0m\u001b[1;33m\u001b[0m\u001b[0m\n\u001b[0m",
      "\u001b[1;32m~\\anaconda3\\lib\\pydoc.py\u001b[0m in \u001b[0;36m__call__\u001b[1;34m(self, request)\u001b[0m\n\u001b[0;32m   2004\u001b[0m     \u001b[1;32mdef\u001b[0m \u001b[0m__call__\u001b[0m\u001b[1;33m(\u001b[0m\u001b[0mself\u001b[0m\u001b[1;33m,\u001b[0m \u001b[0mrequest\u001b[0m\u001b[1;33m=\u001b[0m\u001b[0m_GoInteractive\u001b[0m\u001b[1;33m)\u001b[0m\u001b[1;33m:\u001b[0m\u001b[1;33m\u001b[0m\u001b[1;33m\u001b[0m\u001b[0m\n\u001b[0;32m   2005\u001b[0m         \u001b[1;32mif\u001b[0m \u001b[0mrequest\u001b[0m \u001b[1;32mis\u001b[0m \u001b[1;32mnot\u001b[0m \u001b[0mself\u001b[0m\u001b[1;33m.\u001b[0m\u001b[0m_GoInteractive\u001b[0m\u001b[1;33m:\u001b[0m\u001b[1;33m\u001b[0m\u001b[1;33m\u001b[0m\u001b[0m\n\u001b[1;32m-> 2006\u001b[1;33m             \u001b[0mself\u001b[0m\u001b[1;33m.\u001b[0m\u001b[0mhelp\u001b[0m\u001b[1;33m(\u001b[0m\u001b[0mrequest\u001b[0m\u001b[1;33m)\u001b[0m\u001b[1;33m\u001b[0m\u001b[1;33m\u001b[0m\u001b[0m\n\u001b[0m\u001b[0;32m   2007\u001b[0m         \u001b[1;32melse\u001b[0m\u001b[1;33m:\u001b[0m\u001b[1;33m\u001b[0m\u001b[1;33m\u001b[0m\u001b[0m\n\u001b[0;32m   2008\u001b[0m             \u001b[0mself\u001b[0m\u001b[1;33m.\u001b[0m\u001b[0mintro\u001b[0m\u001b[1;33m(\u001b[0m\u001b[1;33m)\u001b[0m\u001b[1;33m\u001b[0m\u001b[1;33m\u001b[0m\u001b[0m\n",
      "\u001b[1;32m~\\anaconda3\\lib\\pydoc.py\u001b[0m in \u001b[0;36mhelp\u001b[1;34m(self, request)\u001b[0m\n\u001b[0;32m   2051\u001b[0m             \u001b[1;32melif\u001b[0m \u001b[0mrequest\u001b[0m \u001b[1;33m==\u001b[0m \u001b[1;34m'symbols'\u001b[0m\u001b[1;33m:\u001b[0m \u001b[0mself\u001b[0m\u001b[1;33m.\u001b[0m\u001b[0mlistsymbols\u001b[0m\u001b[1;33m(\u001b[0m\u001b[1;33m)\u001b[0m\u001b[1;33m\u001b[0m\u001b[1;33m\u001b[0m\u001b[0m\n\u001b[0;32m   2052\u001b[0m             \u001b[1;32melif\u001b[0m \u001b[0mrequest\u001b[0m \u001b[1;33m==\u001b[0m \u001b[1;34m'topics'\u001b[0m\u001b[1;33m:\u001b[0m \u001b[0mself\u001b[0m\u001b[1;33m.\u001b[0m\u001b[0mlisttopics\u001b[0m\u001b[1;33m(\u001b[0m\u001b[1;33m)\u001b[0m\u001b[1;33m\u001b[0m\u001b[1;33m\u001b[0m\u001b[0m\n\u001b[1;32m-> 2053\u001b[1;33m             \u001b[1;32melif\u001b[0m \u001b[0mrequest\u001b[0m \u001b[1;33m==\u001b[0m \u001b[1;34m'modules'\u001b[0m\u001b[1;33m:\u001b[0m \u001b[0mself\u001b[0m\u001b[1;33m.\u001b[0m\u001b[0mlistmodules\u001b[0m\u001b[1;33m(\u001b[0m\u001b[1;33m)\u001b[0m\u001b[1;33m\u001b[0m\u001b[1;33m\u001b[0m\u001b[0m\n\u001b[0m\u001b[0;32m   2054\u001b[0m             \u001b[1;32melif\u001b[0m \u001b[0mrequest\u001b[0m\u001b[1;33m[\u001b[0m\u001b[1;33m:\u001b[0m\u001b[1;36m8\u001b[0m\u001b[1;33m]\u001b[0m \u001b[1;33m==\u001b[0m \u001b[1;34m'modules '\u001b[0m\u001b[1;33m:\u001b[0m\u001b[1;33m\u001b[0m\u001b[1;33m\u001b[0m\u001b[0m\n\u001b[0;32m   2055\u001b[0m                 \u001b[0mself\u001b[0m\u001b[1;33m.\u001b[0m\u001b[0mlistmodules\u001b[0m\u001b[1;33m(\u001b[0m\u001b[0mrequest\u001b[0m\u001b[1;33m.\u001b[0m\u001b[0msplit\u001b[0m\u001b[1;33m(\u001b[0m\u001b[1;33m)\u001b[0m\u001b[1;33m[\u001b[0m\u001b[1;36m1\u001b[0m\u001b[1;33m]\u001b[0m\u001b[1;33m)\u001b[0m\u001b[1;33m\u001b[0m\u001b[1;33m\u001b[0m\u001b[0m\n",
      "\u001b[1;32m~\\anaconda3\\lib\\pydoc.py\u001b[0m in \u001b[0;36mlistmodules\u001b[1;34m(self, key)\u001b[0m\n\u001b[0;32m   2203\u001b[0m             \u001b[1;32mdef\u001b[0m \u001b[0monerror\u001b[0m\u001b[1;33m(\u001b[0m\u001b[0mmodname\u001b[0m\u001b[1;33m)\u001b[0m\u001b[1;33m:\u001b[0m\u001b[1;33m\u001b[0m\u001b[1;33m\u001b[0m\u001b[0m\n\u001b[0;32m   2204\u001b[0m                 \u001b[0mcallback\u001b[0m\u001b[1;33m(\u001b[0m\u001b[1;32mNone\u001b[0m\u001b[1;33m,\u001b[0m \u001b[0mmodname\u001b[0m\u001b[1;33m,\u001b[0m \u001b[1;32mNone\u001b[0m\u001b[1;33m)\u001b[0m\u001b[1;33m\u001b[0m\u001b[1;33m\u001b[0m\u001b[0m\n\u001b[1;32m-> 2205\u001b[1;33m             \u001b[0mModuleScanner\u001b[0m\u001b[1;33m(\u001b[0m\u001b[1;33m)\u001b[0m\u001b[1;33m.\u001b[0m\u001b[0mrun\u001b[0m\u001b[1;33m(\u001b[0m\u001b[0mcallback\u001b[0m\u001b[1;33m,\u001b[0m \u001b[0monerror\u001b[0m\u001b[1;33m=\u001b[0m\u001b[0monerror\u001b[0m\u001b[1;33m)\u001b[0m\u001b[1;33m\u001b[0m\u001b[1;33m\u001b[0m\u001b[0m\n\u001b[0m\u001b[0;32m   2206\u001b[0m             \u001b[0mself\u001b[0m\u001b[1;33m.\u001b[0m\u001b[0mlist\u001b[0m\u001b[1;33m(\u001b[0m\u001b[0mmodules\u001b[0m\u001b[1;33m.\u001b[0m\u001b[0mkeys\u001b[0m\u001b[1;33m(\u001b[0m\u001b[1;33m)\u001b[0m\u001b[1;33m)\u001b[0m\u001b[1;33m\u001b[0m\u001b[1;33m\u001b[0m\u001b[0m\n\u001b[0;32m   2207\u001b[0m             self.output.write('''\n",
      "\u001b[1;32m~\\anaconda3\\lib\\pydoc.py\u001b[0m in \u001b[0;36mrun\u001b[1;34m(self, callback, key, completer, onerror)\u001b[0m\n\u001b[0;32m   2232\u001b[0m                         \u001b[0mcallback\u001b[0m\u001b[1;33m(\u001b[0m\u001b[1;32mNone\u001b[0m\u001b[1;33m,\u001b[0m \u001b[0mmodname\u001b[0m\u001b[1;33m,\u001b[0m \u001b[0mdesc\u001b[0m\u001b[1;33m)\u001b[0m\u001b[1;33m\u001b[0m\u001b[1;33m\u001b[0m\u001b[0m\n\u001b[0;32m   2233\u001b[0m \u001b[1;33m\u001b[0m\u001b[0m\n\u001b[1;32m-> 2234\u001b[1;33m         \u001b[1;32mfor\u001b[0m \u001b[0mimporter\u001b[0m\u001b[1;33m,\u001b[0m \u001b[0mmodname\u001b[0m\u001b[1;33m,\u001b[0m \u001b[0mispkg\u001b[0m \u001b[1;32min\u001b[0m \u001b[0mpkgutil\u001b[0m\u001b[1;33m.\u001b[0m\u001b[0mwalk_packages\u001b[0m\u001b[1;33m(\u001b[0m\u001b[0monerror\u001b[0m\u001b[1;33m=\u001b[0m\u001b[0monerror\u001b[0m\u001b[1;33m)\u001b[0m\u001b[1;33m:\u001b[0m\u001b[1;33m\u001b[0m\u001b[1;33m\u001b[0m\u001b[0m\n\u001b[0m\u001b[0;32m   2235\u001b[0m             \u001b[1;32mif\u001b[0m \u001b[0mself\u001b[0m\u001b[1;33m.\u001b[0m\u001b[0mquit\u001b[0m\u001b[1;33m:\u001b[0m\u001b[1;33m\u001b[0m\u001b[1;33m\u001b[0m\u001b[0m\n\u001b[0;32m   2236\u001b[0m                 \u001b[1;32mbreak\u001b[0m\u001b[1;33m\u001b[0m\u001b[1;33m\u001b[0m\u001b[0m\n",
      "\u001b[1;32m~\\anaconda3\\lib\\pkgutil.py\u001b[0m in \u001b[0;36mwalk_packages\u001b[1;34m(path, prefix, onerror)\u001b[0m\n\u001b[0;32m    106\u001b[0m                 \u001b[0mpath\u001b[0m \u001b[1;33m=\u001b[0m \u001b[1;33m[\u001b[0m\u001b[0mp\u001b[0m \u001b[1;32mfor\u001b[0m \u001b[0mp\u001b[0m \u001b[1;32min\u001b[0m \u001b[0mpath\u001b[0m \u001b[1;32mif\u001b[0m \u001b[1;32mnot\u001b[0m \u001b[0mseen\u001b[0m\u001b[1;33m(\u001b[0m\u001b[0mp\u001b[0m\u001b[1;33m)\u001b[0m\u001b[1;33m]\u001b[0m\u001b[1;33m\u001b[0m\u001b[1;33m\u001b[0m\u001b[0m\n\u001b[0;32m    107\u001b[0m \u001b[1;33m\u001b[0m\u001b[0m\n\u001b[1;32m--> 108\u001b[1;33m                 \u001b[1;32myield\u001b[0m \u001b[1;32mfrom\u001b[0m \u001b[0mwalk_packages\u001b[0m\u001b[1;33m(\u001b[0m\u001b[0mpath\u001b[0m\u001b[1;33m,\u001b[0m \u001b[0minfo\u001b[0m\u001b[1;33m.\u001b[0m\u001b[0mname\u001b[0m\u001b[1;33m+\u001b[0m\u001b[1;34m'.'\u001b[0m\u001b[1;33m,\u001b[0m \u001b[0monerror\u001b[0m\u001b[1;33m)\u001b[0m\u001b[1;33m\u001b[0m\u001b[1;33m\u001b[0m\u001b[0m\n\u001b[0m\u001b[0;32m    109\u001b[0m \u001b[1;33m\u001b[0m\u001b[0m\n\u001b[0;32m    110\u001b[0m \u001b[1;33m\u001b[0m\u001b[0m\n",
      "\u001b[1;32m~\\anaconda3\\lib\\pkgutil.py\u001b[0m in \u001b[0;36mwalk_packages\u001b[1;34m(path, prefix, onerror)\u001b[0m\n\u001b[0;32m    106\u001b[0m                 \u001b[0mpath\u001b[0m \u001b[1;33m=\u001b[0m \u001b[1;33m[\u001b[0m\u001b[0mp\u001b[0m \u001b[1;32mfor\u001b[0m \u001b[0mp\u001b[0m \u001b[1;32min\u001b[0m \u001b[0mpath\u001b[0m \u001b[1;32mif\u001b[0m \u001b[1;32mnot\u001b[0m \u001b[0mseen\u001b[0m\u001b[1;33m(\u001b[0m\u001b[0mp\u001b[0m\u001b[1;33m)\u001b[0m\u001b[1;33m]\u001b[0m\u001b[1;33m\u001b[0m\u001b[1;33m\u001b[0m\u001b[0m\n\u001b[0;32m    107\u001b[0m \u001b[1;33m\u001b[0m\u001b[0m\n\u001b[1;32m--> 108\u001b[1;33m                 \u001b[1;32myield\u001b[0m \u001b[1;32mfrom\u001b[0m \u001b[0mwalk_packages\u001b[0m\u001b[1;33m(\u001b[0m\u001b[0mpath\u001b[0m\u001b[1;33m,\u001b[0m \u001b[0minfo\u001b[0m\u001b[1;33m.\u001b[0m\u001b[0mname\u001b[0m\u001b[1;33m+\u001b[0m\u001b[1;34m'.'\u001b[0m\u001b[1;33m,\u001b[0m \u001b[0monerror\u001b[0m\u001b[1;33m)\u001b[0m\u001b[1;33m\u001b[0m\u001b[1;33m\u001b[0m\u001b[0m\n\u001b[0m\u001b[0;32m    109\u001b[0m \u001b[1;33m\u001b[0m\u001b[0m\n\u001b[0;32m    110\u001b[0m \u001b[1;33m\u001b[0m\u001b[0m\n",
      "\u001b[1;32m~\\anaconda3\\lib\\pkgutil.py\u001b[0m in \u001b[0;36mwalk_packages\u001b[1;34m(path, prefix, onerror)\u001b[0m\n\u001b[0;32m     91\u001b[0m         \u001b[1;32mif\u001b[0m \u001b[0minfo\u001b[0m\u001b[1;33m.\u001b[0m\u001b[0mispkg\u001b[0m\u001b[1;33m:\u001b[0m\u001b[1;33m\u001b[0m\u001b[1;33m\u001b[0m\u001b[0m\n\u001b[0;32m     92\u001b[0m             \u001b[1;32mtry\u001b[0m\u001b[1;33m:\u001b[0m\u001b[1;33m\u001b[0m\u001b[1;33m\u001b[0m\u001b[0m\n\u001b[1;32m---> 93\u001b[1;33m                 \u001b[0m__import__\u001b[0m\u001b[1;33m(\u001b[0m\u001b[0minfo\u001b[0m\u001b[1;33m.\u001b[0m\u001b[0mname\u001b[0m\u001b[1;33m)\u001b[0m\u001b[1;33m\u001b[0m\u001b[1;33m\u001b[0m\u001b[0m\n\u001b[0m\u001b[0;32m     94\u001b[0m             \u001b[1;32mexcept\u001b[0m \u001b[0mImportError\u001b[0m\u001b[1;33m:\u001b[0m\u001b[1;33m\u001b[0m\u001b[1;33m\u001b[0m\u001b[0m\n\u001b[0;32m     95\u001b[0m                 \u001b[1;32mif\u001b[0m \u001b[0monerror\u001b[0m \u001b[1;32mis\u001b[0m \u001b[1;32mnot\u001b[0m \u001b[1;32mNone\u001b[0m\u001b[1;33m:\u001b[0m\u001b[1;33m\u001b[0m\u001b[1;33m\u001b[0m\u001b[0m\n",
      "\u001b[1;32m~\\anaconda3\\lib\\site-packages\\anaconda_navigator\\utils\\anaconda_solvers\\__init__.py\u001b[0m in \u001b[0;36m<module>\u001b[1;34m\u001b[0m\n\u001b[0;32m      3\u001b[0m \u001b[1;34m\"\"\"Solvers for anaconda-client configurations.\"\"\"\u001b[0m\u001b[1;33m\u001b[0m\u001b[1;33m\u001b[0m\u001b[0m\n\u001b[0;32m      4\u001b[0m \u001b[1;33m\u001b[0m\u001b[0m\n\u001b[1;32m----> 5\u001b[1;33m \u001b[1;32mfrom\u001b[0m \u001b[1;33m.\u001b[0m\u001b[0mcore\u001b[0m \u001b[1;32mimport\u001b[0m \u001b[1;33m*\u001b[0m\u001b[1;33m\u001b[0m\u001b[1;33m\u001b[0m\u001b[0m\n\u001b[0m\u001b[0;32m      6\u001b[0m \u001b[1;32mfrom\u001b[0m \u001b[1;33m.\u001b[0m\u001b[0mssl_solvers\u001b[0m \u001b[1;32mimport\u001b[0m \u001b[1;33m*\u001b[0m\u001b[1;33m\u001b[0m\u001b[1;33m\u001b[0m\u001b[0m\n",
      "\u001b[1;32m~\\anaconda3\\lib\\site-packages\\anaconda_navigator\\utils\\anaconda_solvers\\core.py\u001b[0m in \u001b[0;36m<module>\u001b[1;34m\u001b[0m\n\u001b[0;32m     11\u001b[0m \u001b[1;32mimport\u001b[0m \u001b[0mbinstar_client\u001b[0m\u001b[1;33m\u001b[0m\u001b[1;33m\u001b[0m\u001b[0m\n\u001b[0;32m     12\u001b[0m \u001b[1;33m\u001b[0m\u001b[0m\n\u001b[1;32m---> 13\u001b[1;33m \u001b[1;32mfrom\u001b[0m \u001b[0manaconda_navigator\u001b[0m\u001b[1;33m.\u001b[0m\u001b[0mapi\u001b[0m\u001b[1;33m.\u001b[0m\u001b[0mclient_api\u001b[0m \u001b[1;32mimport\u001b[0m \u001b[0mcatch_and_notify\u001b[0m\u001b[1;33m\u001b[0m\u001b[1;33m\u001b[0m\u001b[0m\n\u001b[0m\u001b[0;32m     14\u001b[0m \u001b[1;32mfrom\u001b[0m \u001b[0manaconda_navigator\u001b[0m\u001b[1;33m.\u001b[0m\u001b[0mutils\u001b[0m \u001b[1;32mimport\u001b[0m \u001b[0msolvers\u001b[0m \u001b[1;32mas\u001b[0m \u001b[0mcommon_solvers\u001b[0m\u001b[1;33m\u001b[0m\u001b[1;33m\u001b[0m\u001b[0m\n\u001b[0;32m     15\u001b[0m \u001b[1;33m\u001b[0m\u001b[0m\n",
      "\u001b[1;32m~\\anaconda3\\lib\\site-packages\\anaconda_navigator\\api\\client_api.py\u001b[0m in \u001b[0;36m<module>\u001b[1;34m\u001b[0m\n\u001b[0;32m     28\u001b[0m \u001b[1;33m\u001b[0m\u001b[0m\n\u001b[0;32m     29\u001b[0m \u001b[1;32mfrom\u001b[0m \u001b[0manaconda_navigator\u001b[0m\u001b[1;33m.\u001b[0m\u001b[0mapi\u001b[0m\u001b[1;33m.\u001b[0m\u001b[0mconda_api\u001b[0m \u001b[1;32mimport\u001b[0m \u001b[0mCondaAPI\u001b[0m\u001b[1;33m\u001b[0m\u001b[1;33m\u001b[0m\u001b[0m\n\u001b[1;32m---> 30\u001b[1;33m \u001b[1;32mfrom\u001b[0m \u001b[0manaconda_navigator\u001b[0m\u001b[1;33m.\u001b[0m\u001b[0mapi\u001b[0m\u001b[1;33m.\u001b[0m\u001b[0mteam_edition_api\u001b[0m \u001b[1;32mimport\u001b[0m \u001b[0mTeamEditionAPI\u001b[0m\u001b[1;33m\u001b[0m\u001b[1;33m\u001b[0m\u001b[0m\n\u001b[0m\u001b[0;32m     31\u001b[0m \u001b[1;32mfrom\u001b[0m \u001b[0manaconda_navigator\u001b[0m\u001b[1;33m.\u001b[0m\u001b[0mconfig\u001b[0m \u001b[1;32mimport\u001b[0m \u001b[0mCONF\u001b[0m\u001b[1;33m,\u001b[0m \u001b[0mAnacondaBrand\u001b[0m\u001b[1;33m\u001b[0m\u001b[1;33m\u001b[0m\u001b[0m\n\u001b[0;32m     32\u001b[0m \u001b[1;32mfrom\u001b[0m \u001b[0manaconda_navigator\u001b[0m\u001b[1;33m.\u001b[0m\u001b[0mutils\u001b[0m \u001b[1;32mimport\u001b[0m \u001b[0mconstants\u001b[0m \u001b[1;32mas\u001b[0m \u001b[0mC\u001b[0m\u001b[1;33m\u001b[0m\u001b[1;33m\u001b[0m\u001b[0m\n",
      "\u001b[1;32m~\\anaconda3\\lib\\site-packages\\anaconda_navigator\\api\\team_edition_api.py\u001b[0m in \u001b[0;36m<module>\u001b[1;34m\u001b[0m\n\u001b[0;32m     17\u001b[0m \u001b[1;32mfrom\u001b[0m \u001b[0murllib\u001b[0m\u001b[1;33m.\u001b[0m\u001b[0mparse\u001b[0m \u001b[1;32mimport\u001b[0m \u001b[0mquote_plus\u001b[0m\u001b[1;33m\u001b[0m\u001b[1;33m\u001b[0m\u001b[0m\n\u001b[0;32m     18\u001b[0m \u001b[1;33m\u001b[0m\u001b[0m\n\u001b[1;32m---> 19\u001b[1;33m \u001b[1;32mimport\u001b[0m \u001b[0mrepo_cli\u001b[0m\u001b[1;33m\u001b[0m\u001b[1;33m\u001b[0m\u001b[0m\n\u001b[0m\u001b[0;32m     20\u001b[0m \u001b[1;32mimport\u001b[0m \u001b[0mrequests\u001b[0m\u001b[1;33m\u001b[0m\u001b[1;33m\u001b[0m\u001b[0m\n\u001b[0;32m     21\u001b[0m \u001b[1;32mfrom\u001b[0m \u001b[0mbinstar_client\u001b[0m\u001b[1;33m.\u001b[0m\u001b[0mutils\u001b[0m\u001b[1;33m.\u001b[0m\u001b[0mconfig\u001b[0m \u001b[1;32mimport\u001b[0m \u001b[0mTOKEN_DIRS\u001b[0m\u001b[1;33m\u001b[0m\u001b[1;33m\u001b[0m\u001b[0m\n",
      "\u001b[1;32m~\\anaconda3\\lib\\site-packages\\repo_cli\\__init__.py\u001b[0m in \u001b[0;36m<module>\u001b[1;34m\u001b[0m\n\u001b[0;32m      1\u001b[0m \u001b[1;32mfrom\u001b[0m \u001b[0msix\u001b[0m\u001b[1;33m.\u001b[0m\u001b[0mmoves\u001b[0m\u001b[1;33m.\u001b[0m\u001b[0murllib\u001b[0m\u001b[1;33m.\u001b[0m\u001b[0mparse\u001b[0m \u001b[1;32mimport\u001b[0m \u001b[0murlparse\u001b[0m\u001b[1;33m\u001b[0m\u001b[1;33m\u001b[0m\u001b[0m\n\u001b[1;32m----> 2\u001b[1;33m \u001b[1;32mfrom\u001b[0m \u001b[1;33m.\u001b[0m \u001b[1;32mimport\u001b[0m \u001b[0mmain\u001b[0m\u001b[1;33m\u001b[0m\u001b[1;33m\u001b[0m\u001b[0m\n\u001b[0m\u001b[0;32m      3\u001b[0m \u001b[1;32mfrom\u001b[0m \u001b[1;33m.\u001b[0m \u001b[1;32mimport\u001b[0m \u001b[0merrors\u001b[0m\u001b[1;33m\u001b[0m\u001b[1;33m\u001b[0m\u001b[0m\n\u001b[0;32m      4\u001b[0m \u001b[1;33m\u001b[0m\u001b[0m\n\u001b[0;32m      5\u001b[0m \u001b[1;32mclass\u001b[0m \u001b[0mPackageSpec\u001b[0m\u001b[1;33m(\u001b[0m\u001b[0mobject\u001b[0m\u001b[1;33m)\u001b[0m\u001b[1;33m:\u001b[0m\u001b[1;33m\u001b[0m\u001b[1;33m\u001b[0m\u001b[0m\n",
      "\u001b[1;32m~\\anaconda3\\lib\\site-packages\\repo_cli\\main.py\u001b[0m in \u001b[0;36m<module>\u001b[1;34m\u001b[0m\n\u001b[0;32m      1\u001b[0m \u001b[1;32mfrom\u001b[0m \u001b[1;33m.\u001b[0m \u001b[1;32mimport\u001b[0m \u001b[0mcommands\u001b[0m\u001b[1;33m\u001b[0m\u001b[1;33m\u001b[0m\u001b[0m\n\u001b[1;32m----> 2\u001b[1;33m \u001b[1;32mfrom\u001b[0m \u001b[1;33m.\u001b[0m\u001b[0mcommands\u001b[0m\u001b[1;33m.\u001b[0m\u001b[0mbase\u001b[0m \u001b[1;32mimport\u001b[0m \u001b[0mRepoCommand\u001b[0m\u001b[1;33m\u001b[0m\u001b[1;33m\u001b[0m\u001b[0m\n\u001b[0m\u001b[0;32m      3\u001b[0m \u001b[1;32mfrom\u001b[0m \u001b[1;33m.\u001b[0m\u001b[0m_version\u001b[0m \u001b[1;32mimport\u001b[0m \u001b[0mget_versions\u001b[0m\u001b[1;33m\u001b[0m\u001b[1;33m\u001b[0m\u001b[0m\n\u001b[0;32m      4\u001b[0m \u001b[1;33m\u001b[0m\u001b[0m\n\u001b[0;32m      5\u001b[0m \u001b[1;33m\u001b[0m\u001b[0m\n",
      "\u001b[1;32m~\\anaconda3\\lib\\site-packages\\repo_cli\\commands\\base.py\u001b[0m in \u001b[0;36m<module>\u001b[1;34m\u001b[0m\n\u001b[0;32m      6\u001b[0m \u001b[1;32mfrom\u001b[0m \u001b[0msix\u001b[0m\u001b[1;33m.\u001b[0m\u001b[0mmoves\u001b[0m\u001b[1;33m.\u001b[0m\u001b[0murllib\u001b[0m\u001b[1;33m.\u001b[0m\u001b[0mparse\u001b[0m \u001b[1;32mimport\u001b[0m \u001b[0murlparse\u001b[0m\u001b[1;33m\u001b[0m\u001b[1;33m\u001b[0m\u001b[0m\n\u001b[0;32m      7\u001b[0m \u001b[1;33m\u001b[0m\u001b[0m\n\u001b[1;32m----> 8\u001b[1;33m \u001b[1;32mfrom\u001b[0m \u001b[1;33m.\u001b[0m\u001b[1;33m.\u001b[0m\u001b[0mutils\u001b[0m\u001b[1;33m.\u001b[0m\u001b[0mapi\u001b[0m \u001b[1;32mimport\u001b[0m \u001b[0mRepoApi\u001b[0m\u001b[1;33m\u001b[0m\u001b[1;33m\u001b[0m\u001b[0m\n\u001b[0m\u001b[0;32m      9\u001b[0m \u001b[1;32mfrom\u001b[0m \u001b[1;33m.\u001b[0m\u001b[1;33m.\u001b[0m\u001b[0mutils\u001b[0m\u001b[1;33m.\u001b[0m\u001b[0mconfig\u001b[0m \u001b[1;32mimport\u001b[0m \u001b[0mstore_token\u001b[0m\u001b[1;33m,\u001b[0m \u001b[0mget_config\u001b[0m\u001b[1;33m,\u001b[0m \u001b[0mload_token\u001b[0m\u001b[1;33m\u001b[0m\u001b[1;33m\u001b[0m\u001b[0m\n\u001b[0;32m     10\u001b[0m \u001b[1;32mfrom\u001b[0m \u001b[1;33m.\u001b[0m\u001b[1;33m.\u001b[0m\u001b[0mutils\u001b[0m \u001b[1;32mimport\u001b[0m \u001b[0m_setup_logging\u001b[0m\u001b[1;33m,\u001b[0m \u001b[0mfile_or_token\u001b[0m\u001b[1;33m,\u001b[0m \u001b[0mconfig\u001b[0m\u001b[1;33m,\u001b[0m \u001b[0mget_ssl_verify_option\u001b[0m\u001b[1;33m\u001b[0m\u001b[1;33m\u001b[0m\u001b[0m\n",
      "\u001b[1;32m~\\anaconda3\\lib\\site-packages\\repo_cli\\utils\\__init__.py\u001b[0m in \u001b[0;36m<module>\u001b[1;34m\u001b[0m\n\u001b[0;32m     14\u001b[0m \u001b[1;32mimport\u001b[0m \u001b[0mrequests\u001b[0m\u001b[1;33m\u001b[0m\u001b[1;33m\u001b[0m\u001b[0m\n\u001b[0;32m     15\u001b[0m \u001b[1;32mfrom\u001b[0m \u001b[0mrequests\u001b[0m\u001b[1;33m.\u001b[0m\u001b[0mpackages\u001b[0m\u001b[1;33m.\u001b[0m\u001b[0murllib3\u001b[0m\u001b[1;33m.\u001b[0m\u001b[0mexceptions\u001b[0m \u001b[1;32mimport\u001b[0m \u001b[0mInsecureRequestWarning\u001b[0m\u001b[1;33m\u001b[0m\u001b[1;33m\u001b[0m\u001b[0m\n\u001b[1;32m---> 16\u001b[1;33m \u001b[1;32mfrom\u001b[0m \u001b[1;33m.\u001b[0m\u001b[0mconfig\u001b[0m \u001b[1;32mimport\u001b[0m \u001b[0mUSER_LOGDIR\u001b[0m\u001b[1;33m\u001b[0m\u001b[1;33m\u001b[0m\u001b[0m\n\u001b[0m\u001b[0;32m     17\u001b[0m \u001b[1;33m\u001b[0m\u001b[0m\n\u001b[0;32m     18\u001b[0m \u001b[1;33m\u001b[0m\u001b[0m\n",
      "\u001b[1;32m~\\anaconda3\\lib\\site-packages\\repo_cli\\utils\\config.py\u001b[0m in \u001b[0;36m<module>\u001b[1;34m\u001b[0m\n\u001b[0;32m     25\u001b[0m \u001b[1;31m# from binstar_client.errors import BinstarError\u001b[0m\u001b[1;33m\u001b[0m\u001b[1;33m\u001b[0m\u001b[0m\n\u001b[0;32m     26\u001b[0m \u001b[1;32mfrom\u001b[0m \u001b[1;33m.\u001b[0m\u001b[1;33m.\u001b[0m\u001b[0merrors\u001b[0m \u001b[1;32mimport\u001b[0m \u001b[0mRepoCLIError\u001b[0m\u001b[1;33m\u001b[0m\u001b[1;33m\u001b[0m\u001b[0m\n\u001b[1;32m---> 27\u001b[1;33m \u001b[1;32mfrom\u001b[0m \u001b[1;33m.\u001b[0m\u001b[0mconda\u001b[0m \u001b[1;32mimport\u001b[0m \u001b[0mCONDA_PREFIX\u001b[0m\u001b[1;33m,\u001b[0m \u001b[0mCONDA_ROOT\u001b[0m\u001b[1;33m\u001b[0m\u001b[1;33m\u001b[0m\u001b[0m\n\u001b[0m\u001b[0;32m     28\u001b[0m \u001b[1;32mfrom\u001b[0m \u001b[1;33m.\u001b[0m\u001b[0myaml\u001b[0m \u001b[1;32mimport\u001b[0m \u001b[0myaml_load\u001b[0m\u001b[1;33m,\u001b[0m \u001b[0myaml_dump\u001b[0m\u001b[1;33m\u001b[0m\u001b[1;33m\u001b[0m\u001b[0m\n\u001b[0;32m     29\u001b[0m \u001b[1;33m\u001b[0m\u001b[0m\n",
      "\u001b[1;32m~\\anaconda3\\lib\\site-packages\\repo_cli\\utils\\conda.py\u001b[0m in \u001b[0;36m<module>\u001b[1;34m\u001b[0m\n\u001b[0;32m     64\u001b[0m     \u001b[1;32mreturn\u001b[0m \u001b[0mconda_root\u001b[0m\u001b[1;33m\u001b[0m\u001b[1;33m\u001b[0m\u001b[0m\n\u001b[0;32m     65\u001b[0m \u001b[1;33m\u001b[0m\u001b[0m\n\u001b[1;32m---> 66\u001b[1;33m \u001b[0mCONDA_ROOT\u001b[0m \u001b[1;33m=\u001b[0m \u001b[0mget_conda_root\u001b[0m\u001b[1;33m(\u001b[0m\u001b[1;33m)\u001b[0m\u001b[1;33m\u001b[0m\u001b[1;33m\u001b[0m\u001b[0m\n\u001b[0m",
      "\u001b[1;32m~\\anaconda3\\lib\\site-packages\\repo_cli\\utils\\conda.py\u001b[0m in \u001b[0;36mget_conda_root\u001b[1;34m()\u001b[0m\n\u001b[0;32m     60\u001b[0m             \u001b[1;31m# We're in an isolated environment: `conda create -p <path>`\u001b[0m\u001b[1;33m\u001b[0m\u001b[1;33m\u001b[0m\u001b[0m\n\u001b[0;32m     61\u001b[0m             \u001b[1;31m# The only way we can find out is by calling conda.\u001b[0m\u001b[1;33m\u001b[0m\u001b[1;33m\u001b[0m\u001b[0m\n\u001b[1;32m---> 62\u001b[1;33m             \u001b[0mconda_root\u001b[0m \u001b[1;33m=\u001b[0m \u001b[0m_conda_root_from_conda_info\u001b[0m\u001b[1;33m(\u001b[0m\u001b[1;33m)\u001b[0m\u001b[1;33m\u001b[0m\u001b[1;33m\u001b[0m\u001b[0m\n\u001b[0m\u001b[0;32m     63\u001b[0m \u001b[1;33m\u001b[0m\u001b[0m\n\u001b[0;32m     64\u001b[0m     \u001b[1;32mreturn\u001b[0m \u001b[0mconda_root\u001b[0m\u001b[1;33m\u001b[0m\u001b[1;33m\u001b[0m\u001b[0m\n",
      "\u001b[1;32m~\\anaconda3\\lib\\site-packages\\repo_cli\\utils\\conda.py\u001b[0m in \u001b[0;36m_conda_root_from_conda_info\u001b[1;34m()\u001b[0m\n\u001b[0;32m     34\u001b[0m \u001b[1;33m\u001b[0m\u001b[0m\n\u001b[0;32m     35\u001b[0m     \u001b[1;32mtry\u001b[0m\u001b[1;33m:\u001b[0m\u001b[1;33m\u001b[0m\u001b[1;33m\u001b[0m\u001b[0m\n\u001b[1;32m---> 36\u001b[1;33m         \u001b[0moutput\u001b[0m \u001b[1;33m=\u001b[0m \u001b[0msubprocess\u001b[0m\u001b[1;33m.\u001b[0m\u001b[0mcheck_output\u001b[0m\u001b[1;33m(\u001b[0m\u001b[1;33m[\u001b[0m\u001b[0mcommand\u001b[0m\u001b[1;33m,\u001b[0m \u001b[1;34m'info'\u001b[0m\u001b[1;33m,\u001b[0m \u001b[1;34m'--json'\u001b[0m\u001b[1;33m]\u001b[0m\u001b[1;33m)\u001b[0m\u001b[1;33m.\u001b[0m\u001b[0mdecode\u001b[0m\u001b[1;33m(\u001b[0m\u001b[1;34m\"utf-8\"\u001b[0m\u001b[1;33m)\u001b[0m\u001b[1;33m\u001b[0m\u001b[1;33m\u001b[0m\u001b[0m\n\u001b[0m\u001b[0;32m     37\u001b[0m         \u001b[0mconda_info\u001b[0m \u001b[1;33m=\u001b[0m \u001b[0mjson\u001b[0m\u001b[1;33m.\u001b[0m\u001b[0mloads\u001b[0m\u001b[1;33m(\u001b[0m\u001b[0moutput\u001b[0m\u001b[1;33m)\u001b[0m\u001b[1;33m\u001b[0m\u001b[1;33m\u001b[0m\u001b[0m\n\u001b[0;32m     38\u001b[0m         \u001b[1;32mreturn\u001b[0m \u001b[0mconda_info\u001b[0m\u001b[1;33m[\u001b[0m\u001b[1;34m'root_prefix'\u001b[0m\u001b[1;33m]\u001b[0m\u001b[1;33m\u001b[0m\u001b[1;33m\u001b[0m\u001b[0m\n",
      "\u001b[1;32m~\\anaconda3\\lib\\subprocess.py\u001b[0m in \u001b[0;36mcheck_output\u001b[1;34m(timeout, *popenargs, **kwargs)\u001b[0m\n\u001b[0;32m    422\u001b[0m         \u001b[0mkwargs\u001b[0m\u001b[1;33m[\u001b[0m\u001b[1;34m'input'\u001b[0m\u001b[1;33m]\u001b[0m \u001b[1;33m=\u001b[0m \u001b[0mempty\u001b[0m\u001b[1;33m\u001b[0m\u001b[1;33m\u001b[0m\u001b[0m\n\u001b[0;32m    423\u001b[0m \u001b[1;33m\u001b[0m\u001b[0m\n\u001b[1;32m--> 424\u001b[1;33m     return run(*popenargs, stdout=PIPE, timeout=timeout, check=True,\n\u001b[0m\u001b[0;32m    425\u001b[0m                **kwargs).stdout\n\u001b[0;32m    426\u001b[0m \u001b[1;33m\u001b[0m\u001b[0m\n",
      "\u001b[1;32m~\\anaconda3\\lib\\subprocess.py\u001b[0m in \u001b[0;36mrun\u001b[1;34m(input, capture_output, timeout, check, *popenargs, **kwargs)\u001b[0m\n\u001b[0;32m    505\u001b[0m     \u001b[1;32mwith\u001b[0m \u001b[0mPopen\u001b[0m\u001b[1;33m(\u001b[0m\u001b[1;33m*\u001b[0m\u001b[0mpopenargs\u001b[0m\u001b[1;33m,\u001b[0m \u001b[1;33m**\u001b[0m\u001b[0mkwargs\u001b[0m\u001b[1;33m)\u001b[0m \u001b[1;32mas\u001b[0m \u001b[0mprocess\u001b[0m\u001b[1;33m:\u001b[0m\u001b[1;33m\u001b[0m\u001b[1;33m\u001b[0m\u001b[0m\n\u001b[0;32m    506\u001b[0m         \u001b[1;32mtry\u001b[0m\u001b[1;33m:\u001b[0m\u001b[1;33m\u001b[0m\u001b[1;33m\u001b[0m\u001b[0m\n\u001b[1;32m--> 507\u001b[1;33m             \u001b[0mstdout\u001b[0m\u001b[1;33m,\u001b[0m \u001b[0mstderr\u001b[0m \u001b[1;33m=\u001b[0m \u001b[0mprocess\u001b[0m\u001b[1;33m.\u001b[0m\u001b[0mcommunicate\u001b[0m\u001b[1;33m(\u001b[0m\u001b[0minput\u001b[0m\u001b[1;33m,\u001b[0m \u001b[0mtimeout\u001b[0m\u001b[1;33m=\u001b[0m\u001b[0mtimeout\u001b[0m\u001b[1;33m)\u001b[0m\u001b[1;33m\u001b[0m\u001b[1;33m\u001b[0m\u001b[0m\n\u001b[0m\u001b[0;32m    508\u001b[0m         \u001b[1;32mexcept\u001b[0m \u001b[0mTimeoutExpired\u001b[0m \u001b[1;32mas\u001b[0m \u001b[0mexc\u001b[0m\u001b[1;33m:\u001b[0m\u001b[1;33m\u001b[0m\u001b[1;33m\u001b[0m\u001b[0m\n\u001b[0;32m    509\u001b[0m             \u001b[0mprocess\u001b[0m\u001b[1;33m.\u001b[0m\u001b[0mkill\u001b[0m\u001b[1;33m(\u001b[0m\u001b[1;33m)\u001b[0m\u001b[1;33m\u001b[0m\u001b[1;33m\u001b[0m\u001b[0m\n",
      "\u001b[1;32m~\\anaconda3\\lib\\subprocess.py\u001b[0m in \u001b[0;36mcommunicate\u001b[1;34m(self, input, timeout)\u001b[0m\n\u001b[0;32m   1119\u001b[0m                 \u001b[0mself\u001b[0m\u001b[1;33m.\u001b[0m\u001b[0m_stdin_write\u001b[0m\u001b[1;33m(\u001b[0m\u001b[0minput\u001b[0m\u001b[1;33m)\u001b[0m\u001b[1;33m\u001b[0m\u001b[1;33m\u001b[0m\u001b[0m\n\u001b[0;32m   1120\u001b[0m             \u001b[1;32melif\u001b[0m \u001b[0mself\u001b[0m\u001b[1;33m.\u001b[0m\u001b[0mstdout\u001b[0m\u001b[1;33m:\u001b[0m\u001b[1;33m\u001b[0m\u001b[1;33m\u001b[0m\u001b[0m\n\u001b[1;32m-> 1121\u001b[1;33m                 \u001b[0mstdout\u001b[0m \u001b[1;33m=\u001b[0m \u001b[0mself\u001b[0m\u001b[1;33m.\u001b[0m\u001b[0mstdout\u001b[0m\u001b[1;33m.\u001b[0m\u001b[0mread\u001b[0m\u001b[1;33m(\u001b[0m\u001b[1;33m)\u001b[0m\u001b[1;33m\u001b[0m\u001b[1;33m\u001b[0m\u001b[0m\n\u001b[0m\u001b[0;32m   1122\u001b[0m                 \u001b[0mself\u001b[0m\u001b[1;33m.\u001b[0m\u001b[0mstdout\u001b[0m\u001b[1;33m.\u001b[0m\u001b[0mclose\u001b[0m\u001b[1;33m(\u001b[0m\u001b[1;33m)\u001b[0m\u001b[1;33m\u001b[0m\u001b[1;33m\u001b[0m\u001b[0m\n\u001b[0;32m   1123\u001b[0m             \u001b[1;32melif\u001b[0m \u001b[0mself\u001b[0m\u001b[1;33m.\u001b[0m\u001b[0mstderr\u001b[0m\u001b[1;33m:\u001b[0m\u001b[1;33m\u001b[0m\u001b[1;33m\u001b[0m\u001b[0m\n",
      "\u001b[1;31mKeyboardInterrupt\u001b[0m: "
     ]
    }
   ],
   "source": [
    "print(help(\"modules\"))"
   ]
  },
  {
   "cell_type": "code",
   "execution_count": 22,
   "id": "2f77dd3f",
   "metadata": {},
   "outputs": [
    {
     "name": "stdout",
     "output_type": "stream",
     "text": [
      "1\n",
      "2\n"
     ]
    }
   ],
   "source": [
    "#SCope resolution-BGELlocal->enclosed->global->built-in\n",
    "#variable scope=where a variable is visible and accessible\n",
    "def func1():\n",
    "    a=1\n",
    "    print(a)\n",
    "def func2():\n",
    "    b=2\n",
    "    print(b)\n",
    "func1()\n",
    "func2()"
   ]
  },
  {
   "cell_type": "code",
   "execution_count": 25,
   "id": "52a2a216",
   "metadata": {},
   "outputs": [
    {
     "name": "stdout",
     "output_type": "stream",
     "text": [
      "3\n"
     ]
    }
   ],
   "source": [
    "from math import e\n",
    "def func():\n",
    "    print(e)\n",
    "e=3\n",
    "func()"
   ]
  },
  {
   "cell_type": "code",
   "execution_count": null,
   "id": "b37d7bfa",
   "metadata": {},
   "outputs": [],
   "source": [
    "#if __name__==\"__main__\" -->this report can be imported or standalone functions and classes in this module can be reused without te min block of code\n",
    "#ex:import library for functionality .when running library directly,display a help page\n",
    "def main():\n",
    "\n",
    "    \n",
    "if __name__==\"__main__\": #remember == not =\n",
    "    main()"
   ]
  },
  {
   "cell_type": "code",
   "execution_count": 26,
   "id": "be4f1802",
   "metadata": {},
   "outputs": [
    {
     "name": "stdout",
     "output_type": "stream",
     "text": [
      "['In', 'Out', '_', '__', '___', '__builtin__', '__builtins__', '__doc__', '__loader__', '__name__', '__package__', '__spec__', '_dh', '_i', '_i1', '_i10', '_i11', '_i12', '_i13', '_i14', '_i15', '_i16', '_i17', '_i18', '_i19', '_i2', '_i20', '_i21', '_i22', '_i23', '_i24', '_i25', '_i26', '_i3', '_i4', '_i5', '_i6', '_i7', '_i8', '_i9', '_ih', '_ii', '_iii', '_oh', 'a', 'b', 'c', 'd', 'e', 'exit', 'func', 'func1', 'func2', 'get_ipython', 'm', 'math', 'quit']\n"
     ]
    }
   ],
   "source": [
    "print(dir())"
   ]
  },
  {
   "cell_type": "code",
   "execution_count": 27,
   "id": "a20e1e94",
   "metadata": {
    "scrolled": true
   },
   "outputs": [
    {
     "name": "stdout",
     "output_type": "stream",
     "text": [
      "__main__\n"
     ]
    }
   ],
   "source": [
    "print(__name__)"
   ]
  },
  {
   "cell_type": "code",
   "execution_count": 32,
   "id": "09a7e9d1",
   "metadata": {},
   "outputs": [
    {
     "name": "stdout",
     "output_type": "stream",
     "text": [
      "entr your favourite food:ham\n",
      "your favourite food is ham\n",
      "this is script\n"
     ]
    }
   ],
   "source": [
    "def favourite_food(food):\n",
    "    print(f\"your favourite food is {food}\")\n",
    "def main():\n",
    "    food=input(\"entr your favourite food:\")\n",
    "    favourite_food(food)\n",
    "    print(\"this is script\") \n",
    "#if __name__==\"__main__\":\n",
    "main()\n",
    "    "
   ]
  },
  {
   "cell_type": "markdown",
   "id": "45d11ceb",
   "metadata": {},
   "source": [
    "used because code is modular,helps readability,leaves no global variables,aoid unintended variables,avoid unintended execution"
   ]
  },
  {
   "cell_type": "code",
   "execution_count": 6,
   "id": "f0abb4d2",
   "metadata": {},
   "outputs": [
    {
     "name": "stdout",
     "output_type": "stream",
     "text": [
      "banking problem\n",
      "1.show balance\n",
      "2.deposit\n",
      "3.withdraw\n",
      "4.exit\n",
      "enter your choice:(1-4)2\n",
      "enter money to be deposited:200\n",
      "banking problem\n",
      "1.show balance\n",
      "2.deposit\n",
      "3.withdraw\n",
      "4.exit\n",
      "enter your choice:(1-4)1\n",
      "your balance is200.00\n",
      "banking problem\n",
      "1.show balance\n",
      "2.deposit\n",
      "3.withdraw\n",
      "4.exit\n",
      "enter your choice:(1-4)3\n",
      "enter money to withdraw:2\n",
      "your withdrawal of amount 2.0 was sucessfull\n",
      "banking problem\n",
      "1.show balance\n",
      "2.deposit\n",
      "3.withdraw\n",
      "4.exit\n",
      "enter your choice:(1-4)1\n",
      "your balance is198.00\n",
      "banking problem\n",
      "1.show balance\n",
      "2.deposit\n",
      "3.withdraw\n",
      "4.exit\n",
      "enter your choice:(1-4)4\n",
      "thank you have a nice day\n"
     ]
    }
   ],
   "source": [
    "#PYTOHN BANKING PROBLEM\n",
    "def show_balance(balance):\n",
    "    print(f\"your balance is{balance:.2f}\")\n",
    "def deposit():\n",
    "    amount=float(input(\"enter money to be deposited:\"))\n",
    "    if amount < 0:\n",
    "        print(\"thats not valid amount\")\n",
    "        return 0\n",
    "    else:\n",
    "        return amount\n",
    "def withdraw(balance):\n",
    "    amount=float(input(\"enter money to withdraw:\"))\n",
    "    if amount>balance:\n",
    "        print(\"insufficient balance\")\n",
    "    #elif:\n",
    "        ##print(\"amount must be greater than 0\")\n",
    "    else:\n",
    "        print(f\"your withdrawal of amount {amount} was sucessfull\")  \n",
    "        return amount\n",
    "balance=0\n",
    "is_running=True\n",
    "while is_running:\n",
    "    print(\"banking problem\")\n",
    "    print('1.show balance')\n",
    "    print(\"2.deposit\")\n",
    "    print(\"3.withdraw\")\n",
    "    print(\"4.exit\")\n",
    "    choice=input(\"enter your choice:(1-4)\")\n",
    "    if choice==\"1\":\n",
    "        show_balance(balance)\n",
    "    elif choice==\"2\":\n",
    "        balance+=deposit()\n",
    "    elif choice==\"3\":\n",
    "        balance-=withdraw(balance)\n",
    "    elif choice==\"4\":\n",
    "        is_running=False\n",
    "    else:\n",
    "        print(\"that is not a valid choice\")\n",
    "print(\"thank you have a nice day\")"
   ]
  },
  {
   "cell_type": "code",
   "execution_count": 9,
   "id": "2b7489e6",
   "metadata": {},
   "outputs": [
    {
     "ename": "IndentationError",
     "evalue": "unexpected indent (250457365.py, line 21)",
     "output_type": "error",
     "traceback": [
      "\u001b[1;36m  File \u001b[1;32m\"C:\\Users\\srini\\AppData\\Local\\Temp\\ipykernel_36492\\250457365.py\"\u001b[1;36m, line \u001b[1;32m21\u001b[0m\n\u001b[1;33m    if:\u001b[0m\n\u001b[1;37m    ^\u001b[0m\n\u001b[1;31mIndentationError\u001b[0m\u001b[1;31m:\u001b[0m unexpected indent\n"
     ]
    }
   ],
   "source": [
    "#python slot machine --->START FROM BEGINNING AND LEARN HOW TO DO THE THINGS NOT JUST DOING UNDERSTAND THEM HOW THEY WORK\n",
    "def spin_row():\n",
    "    spin=[\"$\"]\n",
    "def print_row():\n",
    "    pass\n",
    "def pay_out():\n",
    "    pass\n",
    "def main():\n",
    "    balance=100\n",
    "    print(\"****************\")\n",
    "    print(\"python slot machine\")\n",
    "    print(\"symbols:!@#$%$$$$$$$$$\")\n",
    "    print(\"*****************\")\n",
    "    while balance>0:\n",
    "        print(f\"current balance:${balance}\")\n",
    "        bet=input(\"enter your bet amount:\")\n",
    "        if not bet.isdigit():\n",
    "            print(\"please enter a valid number\")\n",
    "            continue\n",
    "        bet=int(bet)\n",
    "         if:\n",
    "            print(\"insufficient balance\")\n",
    "            continue\n",
    "            if bet > balance:\n",
    "            print(\"insufficient balance\")\n",
    "            continue\n",
    "             if bet <= 0:\n",
    "            print(\"bet ust be grater than0\")\n",
    "            continue\n",
    "if __name__==\"__main__\":\n",
    "    main()"
   ]
  },
  {
   "cell_type": "code",
   "execution_count": 13,
   "id": "6ee7d9fc",
   "metadata": {},
   "outputs": [
    {
     "name": "stdout",
     "output_type": "stream",
     "text": [
      "None\n",
      "enter a message to encypt:man\n",
      "original message:man\n",
      "cipher message message:l'I\n",
      "enter a message to dcrypt:l'I\n",
      "cipher message :l'I\n",
      "original message:man\n"
     ]
    }
   ],
   "source": [
    "#PYTHON ENCRYPTION PROGRAM -->BEST PROGRAM TO UNDERSTAND LIST WORKING AND METHIDS AND RANDOM AND STRING MODULE\n",
    "import random\n",
    "import string #has functions/methods to handle the string easy way\n",
    "chars=\" \"+string.punctuation+string.digits+string.ascii_letters  #gives strings of punctuation and other things\n",
    "chars=list(chars)\n",
    "keys=chars.copy()\n",
    "\n",
    "#print(random.shuffle(keys))\n",
    "\n",
    "#print(f\"chars:{chars}\")\n",
    "#print(f\"key:{keys}\")\n",
    "\n",
    "#encryption\n",
    "plain_text=input(\"enter a message to encypt:\")\n",
    "cipher_text=\"\"\n",
    "for letter in plain_text:\n",
    "    index=chars.index(letter)\n",
    "    cipher_text+=keys[index]\n",
    "    \n",
    "print(f\"original message:{plain_text}\")\n",
    "print(f\"cipher message message:{cipher_text}\")\n",
    "\n",
    "#decryption\n",
    "cipher_text=input(\"enter a message to dcrypt:\")\n",
    "plain_text=\"\"\n",
    "for letter in cipher_text:\n",
    "    index=keys.index(letter)\n",
    "    plain_text+=chars[index]\n",
    "\n",
    "print(f\"cipher message :{cipher_text}\")\n",
    "print(f\"original message:{plain_text}\")"
   ]
  },
  {
   "cell_type": "code",
   "execution_count": null,
   "id": "747d83e7",
   "metadata": {},
   "outputs": [],
   "source": [
    "#print(help(\"string\"))"
   ]
  },
  {
   "cell_type": "code",
   "execution_count": null,
   "id": "bd01071a",
   "metadata": {},
   "outputs": [],
   "source": [
    "#help()"
   ]
  },
  {
   "cell_type": "markdown",
   "id": "d2b9b3c8",
   "metadata": {},
   "source": [
    "\n",
    "hangman game"
   ]
  },
  {
   "cell_type": "code",
   "execution_count": 33,
   "id": "cc5ffceb",
   "metadata": {},
   "outputs": [
    {
     "ename": "SyntaxError",
     "evalue": "invalid syntax (1477879535.py, line 40)",
     "output_type": "error",
     "traceback": [
      "\u001b[1;36m  File \u001b[1;32m\"C:\\Users\\srini\\AppData\\Local\\Temp\\ipykernel_27156\\1477879535.py\"\u001b[1;36m, line \u001b[1;32m40\u001b[0m\n\u001b[1;33m    hint[i]=guess\u001b[0m\n\u001b[1;37m    ^\u001b[0m\n\u001b[1;31mSyntaxError\u001b[0m\u001b[1;31m:\u001b[0m invalid syntax\n"
     ]
    }
   ],
   "source": [
    "import random\n",
    "words=(\"apple\",\"orange\",\"banna\",\"cocnut\",\"pineapple\")\n",
    "#dictionary of key:()\n",
    "hangman_art={0:(\" \",\" \",\" \"),\n",
    "             1:(\"o\",\" \",\" \"),\n",
    "             2:(\"o\",\"|\",\"\"),\n",
    "             3:(\"o\",\"/|\",\" \"),\n",
    "             4:(\"o\",\"/|\\\\\",\" \"),\n",
    "             5:(\"o\",\"/|\\\\\",\"/ \"),\n",
    "             6:(\"o\",\"/|\\\\\",\"/ \\\\\")}\n",
    "def display_man(wrong_guesses):\n",
    "    print(\"***********************\")\n",
    "    for line in hangman_art[wrong_guesses]:\n",
    "        print(line)\n",
    "    print(\"************************\")\n",
    "def display_hint(hint):\n",
    "    print(\" \".join(hint))\n",
    "def display_answer(answer):\n",
    "     print(\" \".join(answer))\n",
    "def main():\n",
    "    answer=random.choice(words)\n",
    "    hint=[\"_\"]*len(answer)\n",
    "    wrong_guesses=0\n",
    "    guessed_letters=set()\n",
    "    is_running=True\n",
    "    while is_running:\n",
    "        display_man(wrong_guesses)\n",
    "        display_hint(hint)\n",
    "        guess=input(\"enter  a letter:\").lower()\n",
    "    \n",
    "    if len(guess) !=1 or not guess.isalpha():\n",
    "            print(\"invalid input\")\n",
    "            continue\n",
    "    if guess in guessed_letters:\n",
    "                    print(f\"{guess} is already guessed\")\n",
    "                    continue\n",
    "    if guess in answer:\n",
    "        for i in range((len(answer))\n",
    "            if answer[i]==guess\n",
    "             hint[i]=guess\n",
    "    else:\n",
    "        print('invalid')\n",
    "    \n",
    "if __name__==\"__main__\":\n",
    "    main()\n",
    "    \n",
    "#or line in hangman_art[6]:\n",
    "    # int(line)"
   ]
  },
  {
   "cell_type": "code",
   "execution_count": null,
   "id": "716b148f",
   "metadata": {},
   "outputs": [],
   "source": []
  },
  {
   "cell_type": "code",
   "execution_count": null,
   "id": "6f5709ea",
   "metadata": {},
   "outputs": [],
   "source": []
  },
  {
   "cell_type": "code",
   "execution_count": null,
   "id": "3409a52a",
   "metadata": {},
   "outputs": [],
   "source": []
  }
 ],
 "metadata": {
  "kernelspec": {
   "display_name": "Python 3 (ipykernel)",
   "language": "python",
   "name": "python3"
  },
  "language_info": {
   "codemirror_mode": {
    "name": "ipython",
    "version": 3
   },
   "file_extension": ".py",
   "mimetype": "text/x-python",
   "name": "python",
   "nbconvert_exporter": "python",
   "pygments_lexer": "ipython3",
   "version": "3.9.13"
  }
 },
 "nbformat": 4,
 "nbformat_minor": 5
}
